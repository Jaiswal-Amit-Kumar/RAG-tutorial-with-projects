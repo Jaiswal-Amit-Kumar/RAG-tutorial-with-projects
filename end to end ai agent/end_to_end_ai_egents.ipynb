{
 "cells": [
  {
   "cell_type": "code",
   "execution_count": 14,
   "id": "fe6f69e9",
   "metadata": {},
   "outputs": [],
   "source": [
    "from langchain_ollama.chat_models import ChatOllama\n",
    "from langchain_community.tools import DuckDuckGoSearchRun\n",
    "from langchain_core.messages import HumanMessage\n",
    "import requests\n"
   ]
  },
  {
   "cell_type": "code",
   "execution_count": 15,
   "id": "4d8fcf29",
   "metadata": {},
   "outputs": [
    {
     "name": "stderr",
     "output_type": "stream",
     "text": [
      "c:\\Users\\gauta\\AppData\\Local\\Programs\\Python\\Python313\\Lib\\site-packages\\langchain_community\\utilities\\duckduckgo_search.py:63: RuntimeWarning: This package (`duckduckgo_search`) has been renamed to `ddgs`! Use `pip install ddgs` instead.\n",
      "  with DDGS() as ddgs:\n"
     ]
    },
    {
     "data": {
      "text/plain": [
       "'Jul 31, 2025 · CPU天梯图更注重综合性能，只具有参考意义，选择CPU要根据需求选择。 生产力用户更偏重多核性能，可以参考综合性能天梯图 游戏用户更偏重 … Jul 31, 2025 · 1080P/2K/4K分辨率，以最新发布的RTX 5050为基准（25款主流游戏测试成绩取平均值） 数据来源于：TechPowerUp 桌面端显卡天梯图： Jul 31, 2025 · 桌面端CPU综合性能天梯图，提供最新的CPU性能排名和对比信息，帮助用户了解不同型号的表现和选择适合自己的产品。 知乎，中文互联网高质量的问答社区和创作者聚集的原创内容平台，于 2011 年 1 月正式上线，以「让人们更好的分享知识、经验和见解，找到自己的解答」为品 … 2025/7/30 先去这里： 中文马克思主义文库 - 理论资源平台 其他方法基本上都进不去 这可能是这个问题最新的回答了吧！ 24年朋友给我推荐了这个网站，因为懒 …'"
      ]
     },
     "execution_count": 15,
     "metadata": {},
     "output_type": "execute_result"
    }
   ],
   "source": [
    "search_tool = DuckDuckGoSearchRun()\n",
    "search_tool.invoke('top news in india today')"
   ]
  },
  {
   "cell_type": "code",
   "execution_count": null,
   "id": "03436abd",
   "metadata": {},
   "outputs": [
    {
     "name": "stderr",
     "output_type": "stream",
     "text": [
      "C:\\Users\\gauta\\AppData\\Local\\Temp\\ipykernel_11020\\4252118037.py:3: RuntimeWarning: This package (`duckduckgo_search`) has been renamed to `ddgs`! Use `pip install ddgs` instead.\n",
      "  search = DDGS()\n"
     ]
    },
    {
     "ename": "AttributeError",
     "evalue": "'DDGS' object has no attribute 'run'",
     "output_type": "error",
     "traceback": [
      "\u001b[31m---------------------------------------------------------------------------\u001b[39m",
      "\u001b[31mAttributeError\u001b[39m                            Traceback (most recent call last)",
      "\u001b[36mCell\u001b[39m\u001b[36m \u001b[39m\u001b[32mIn[21]\u001b[39m\u001b[32m, line 5\u001b[39m\n\u001b[32m      1\u001b[39m \u001b[38;5;28;01mfrom\u001b[39;00m\u001b[38;5;250m \u001b[39m\u001b[34;01mduckduckgo_search\u001b[39;00m\u001b[38;5;250m \u001b[39m\u001b[38;5;28;01mimport\u001b[39;00m DDGS\n\u001b[32m      3\u001b[39m search = DDGS()\n\u001b[32m----> \u001b[39m\u001b[32m5\u001b[39m \u001b[43msearch\u001b[49m\u001b[43m.\u001b[49m\u001b[43mrun\u001b[49m(\u001b[33m\"\u001b[39m\u001b[33mObama\u001b[39m\u001b[33m\"\u001b[39m)\n",
      "\u001b[31mAttributeError\u001b[39m: 'DDGS' object has no attribute 'run'"
     ]
    }
   ],
   "source": []
  },
  {
   "cell_type": "code",
   "execution_count": null,
   "id": "c5f86f0c",
   "metadata": {},
   "outputs": [],
   "source": []
  }
 ],
 "metadata": {
  "kernelspec": {
   "display_name": "Python (RAG_projects)",
   "language": "python",
   "name": "rag_projects"
  },
  "language_info": {
   "codemirror_mode": {
    "name": "ipython",
    "version": 3
   },
   "file_extension": ".py",
   "mimetype": "text/x-python",
   "name": "python",
   "nbconvert_exporter": "python",
   "pygments_lexer": "ipython3",
   "version": "3.13.3"
  }
 },
 "nbformat": 4,
 "nbformat_minor": 5
}
