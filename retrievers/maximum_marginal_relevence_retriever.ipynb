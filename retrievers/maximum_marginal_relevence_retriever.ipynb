{
 "cells": [
  {
   "cell_type": "code",
   "execution_count": null,
   "id": "71c8b3b1",
   "metadata": {},
   "outputs": [],
   "source": [
    "from langchain_community.vectorstores import FAISS\n",
    "from langchain_core.documents import Document\n",
    "from langchain_community.embeddings import HuggingFaceEmbeddings"
   ]
  },
  {
   "cell_type": "code",
   "execution_count": 4,
   "id": "701029c6",
   "metadata": {},
   "outputs": [],
   "source": [
    "documents = [\n",
    "    Document(page_content='LangChain is a powerful Python framework designed to simplify building applications powered by large language models (LLMs), enabling developers to create complex workflows with modular components like chains, agents, and memory.'),\n",
    "    Document(page_content='It offers seamless integration with various language models, vector databases, and tools, supporting tasks such as generating unique content, retrieving relevant data, translating languages, and answering user queries in context-aware ways.'),\n",
    "    Document(page_content='LangChain’s modular architecture allows developers to mix and match components like prompt templates, retrievers, and output parsers, making it easier to experiment, customize, and rapidly develop AI-powered applications.'),\n",
    "    Document(page_content='The framework supports advanced features such as retrieval-augmented generation (RAG), conversation memory, and deployment tools, making it highly versatile for use cases including chatbots, synthetic data generation, and natural language interactions with databases.'),\n",
    "]"
   ]
  },
  {
   "cell_type": "code",
   "execution_count": 7,
   "id": "2dc897bd",
   "metadata": {},
   "outputs": [],
   "source": [
    "embeddings = HuggingFaceEmbeddings(\n",
    "    model_name=\"sentence-transformers/all-MiniLM-L6-v2\",\n",
    "    model_kwargs={\"trust_remote_code\": True}\n",
    ")\n",
    "\n",
    "vector_store = FAISS.from_documents(\n",
    "    documents=documents,\n",
    "    embedding = embeddings\n",
    ")"
   ]
  },
  {
   "cell_type": "code",
   "execution_count": 22,
   "id": "fb810df9",
   "metadata": {},
   "outputs": [],
   "source": [
    "retriever = vector_store.as_retriever(\n",
    "    search_type = 'mmr',\n",
    "    search_kwargs = {'k':3, 'lambda_mut':1})"
   ]
  },
  {
   "cell_type": "code",
   "execution_count": 26,
   "id": "f0e54577",
   "metadata": {},
   "outputs": [],
   "source": [
    "query = 'what is langchain?'\n",
    "results = retriever.invoke(query)"
   ]
  },
  {
   "cell_type": "code",
   "execution_count": 27,
   "id": "8fe270e9",
   "metadata": {},
   "outputs": [
    {
     "name": "stdout",
     "output_type": "stream",
     "text": [
      "-------Results 1-------\n",
      "Contents: \n",
      " LangChain is a powerful Python framework designed to simplify building applications powered by large language models (LLMs), enabling developers to create complex workflows with modular components like chains, agents, and memory.\n",
      "-------Results 2-------\n",
      "Contents: \n",
      " LangChain’s modular architecture allows developers to mix and match components like prompt templates, retrievers, and output parsers, making it easier to experiment, customize, and rapidly develop AI-powered applications.\n",
      "-------Results 3-------\n",
      "Contents: \n",
      " It offers seamless integration with various language models, vector databases, and tools, supporting tasks such as generating unique content, retrieving relevant data, translating languages, and answering user queries in context-aware ways.\n"
     ]
    }
   ],
   "source": [
    "for i,docs in enumerate(results):\n",
    "     print(f'-------Results {i+1}-------')\n",
    "     print(f'Contents: \\n {docs.page_content}')"
   ]
  },
  {
   "cell_type": "code",
   "execution_count": null,
   "id": "f3aa9950",
   "metadata": {},
   "outputs": [],
   "source": []
  }
 ],
 "metadata": {
  "kernelspec": {
   "display_name": "Python (RAG_projects)",
   "language": "python",
   "name": "rag_projects"
  },
  "language_info": {
   "codemirror_mode": {
    "name": "ipython",
    "version": 3
   },
   "file_extension": ".py",
   "mimetype": "text/x-python",
   "name": "python",
   "nbconvert_exporter": "python",
   "pygments_lexer": "ipython3",
   "version": "3.13.3"
  }
 },
 "nbformat": 4,
 "nbformat_minor": 5
}
