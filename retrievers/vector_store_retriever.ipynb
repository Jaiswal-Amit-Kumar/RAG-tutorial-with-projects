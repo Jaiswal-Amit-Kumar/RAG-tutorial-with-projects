{
 "cells": [
  {
   "cell_type": "code",
   "execution_count": 1,
   "id": "1f75ce57",
   "metadata": {},
   "outputs": [],
   "source": [
    "from langchain_community.vectorstores import Chroma\n",
    "from langchain_community.embeddings import HuggingFaceEmbeddings\n",
    "from langchain_core.documents import Document"
   ]
  },
  {
   "cell_type": "code",
   "execution_count": 2,
   "id": "a044aace",
   "metadata": {},
   "outputs": [],
   "source": [
    "documents = [\n",
    "    Document(page_content='LangChain is a powerful Python framework designed to simplify building applications powered by large language models (LLMs), enabling developers to create complex workflows with modular components like chains, agents, and memory.'),\n",
    "    Document(page_content='It offers seamless integration with various language models, vector databases, and tools, supporting tasks such as generating unique content, retrieving relevant data, translating languages, and answering user queries in context-aware ways.'),\n",
    "    Document(page_content='LangChain’s modular architecture allows developers to mix and match components like prompt templates, retrievers, and output parsers, making it easier to experiment, customize, and rapidly develop AI-powered applications.'),\n",
    "    Document(page_content='The framework supports advanced features such as retrieval-augmented generation (RAG), conversation memory, and deployment tools, making it highly versatile for use cases including chatbots, synthetic data generation, and natural language interactions with databases.'),\n",
    "]"
   ]
  },
  {
   "cell_type": "code",
   "execution_count": 7,
   "id": "ebb262d6",
   "metadata": {},
   "outputs": [],
   "source": [
    "embeddings = HuggingFaceEmbeddings(\n",
    "    model_name=\"sentence-transformers/all-MiniLM-L6-v2\",\n",
    "    model_kwargs={\"trust_remote_code\": True}\n",
    ")\n",
    "\n",
    "vector_store = Chroma.from_documents(\n",
    "    documents=documents,\n",
    "    embedding = embeddings,\n",
    "    collection_name= 'sample'\n",
    ")"
   ]
  },
  {
   "cell_type": "code",
   "execution_count": 8,
   "id": "abbd371b",
   "metadata": {},
   "outputs": [],
   "source": [
    "retriever = vector_store.as_retriever(search_kwargs = {'k':2})"
   ]
  },
  {
   "cell_type": "code",
   "execution_count": 9,
   "id": "747a13be",
   "metadata": {},
   "outputs": [],
   "source": [
    "query = 'what is chroma used for?'\n",
    "results = retriever.invoke(query)"
   ]
  },
  {
   "cell_type": "code",
   "execution_count": 13,
   "id": "edaf3329",
   "metadata": {},
   "outputs": [
    {
     "name": "stdout",
     "output_type": "stream",
     "text": [
      "-------Results 1-------\n",
      "Contents: \n",
      " The framework supports advanced features such as retrieval-augmented generation (RAG), conversation memory, and deployment tools, making it highly versatile for use cases including chatbots, synthetic data generation, and natural language interactions with databases.\n",
      "-------Results 2-------\n",
      "Contents: \n",
      " The framework supports advanced features such as retrieval-augmented generation (RAG), conversation memory, and deployment tools, making it highly versatile for use cases including chatbots, synthetic data generation, and natural language interactions with databases.\n"
     ]
    }
   ],
   "source": [
    "for i, docs in enumerate(results):\n",
    "    print(f'-------Results {i+1}-------')\n",
    "    print(f'Contents: \\n {docs.page_content}')"
   ]
  },
  {
   "cell_type": "code",
   "execution_count": 15,
   "id": "530d76d2",
   "metadata": {},
   "outputs": [
    {
     "data": {
      "text/plain": [
       "[Document(metadata={}, page_content='The framework supports advanced features such as retrieval-augmented generation (RAG), conversation memory, and deployment tools, making it highly versatile for use cases including chatbots, synthetic data generation, and natural language interactions with databases.'),\n",
       " Document(metadata={}, page_content='The framework supports advanced features such as retrieval-augmented generation (RAG), conversation memory, and deployment tools, making it highly versatile for use cases including chatbots, synthetic data generation, and natural language interactions with databases.')]"
      ]
     },
     "execution_count": 15,
     "metadata": {},
     "output_type": "execute_result"
    }
   ],
   "source": [
    "vector_store.similarity_search(query=query, k=2)"
   ]
  },
  {
   "cell_type": "code",
   "execution_count": null,
   "id": "2bbc97f1",
   "metadata": {},
   "outputs": [],
   "source": []
  }
 ],
 "metadata": {
  "kernelspec": {
   "display_name": "Python (RAG_projects)",
   "language": "python",
   "name": "rag_projects"
  },
  "language_info": {
   "codemirror_mode": {
    "name": "ipython",
    "version": 3
   },
   "file_extension": ".py",
   "mimetype": "text/x-python",
   "name": "python",
   "nbconvert_exporter": "python",
   "pygments_lexer": "ipython3",
   "version": "3.13.3"
  }
 },
 "nbformat": 4,
 "nbformat_minor": 5
}
