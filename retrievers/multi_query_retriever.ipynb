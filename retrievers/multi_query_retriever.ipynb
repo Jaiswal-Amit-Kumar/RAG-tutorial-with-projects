{
 "cells": [
  {
   "cell_type": "code",
   "execution_count": 17,
   "id": "ae7835b4",
   "metadata": {},
   "outputs": [],
   "source": [
    "from langchain.retrievers.multi_query import MultiQueryRetriever\n",
    "from langchain_community.vectorstores import FAISS\n",
    "from langchain_community.embeddings import HuggingFaceEmbeddings\n",
    "from langchain_openai import ChatOpenAI\n",
    "from langchain_core.documents import Document\n",
    "import os"
   ]
  },
  {
   "cell_type": "code",
   "execution_count": 18,
   "id": "7b4e0ba3",
   "metadata": {},
   "outputs": [],
   "source": [
    "os.environ[\"OPENAI_API_BASE\"] = \"https://openrouter.ai/api/v1\"\n",
    "os.environ[\"OPENAI_API_KEY\"] = \"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\"\n",
    "\n",
    "model = ChatOpenAI(model=\"deepseek/deepseek-r1:free\")\n"
   ]
  },
  {
   "cell_type": "code",
   "execution_count": 19,
   "id": "a8649039",
   "metadata": {},
   "outputs": [],
   "source": [
    "documents = [\n",
    "    Document(page_content='\"Regular physical activity improves overall health and reduces the risk of chronic diseases.', metadata={'source':'H1'}),\n",
    "    Document(page_content='A balanced diet rich in fruits, vegetables, and whole grains supports optimal wellness.', metadata={'source':'H2'}),\n",
    "    Document(page_content='Meditation can reduce stress and improve mental clarity and emotional well-being', metadata={'source':'H3'}),\n",
    "    Document(page_content='Quality sleep is essential for physical restoration and cognitive function', metadata={'source':'H4'}),\n",
    "    Document(page_content='Drinking enough water is fundamental for maintaining bodily functions and energy levels.', metadata={'source':'H4'}),\n",
    "    Document(page_content='Lifestyle changes and natural remedies can help manage anxiety symptoms effectively.', metadata={'source':'H5'}),\n",
    "    Document(page_content='Yoga enhances flexibility, strength, and mental relaxation.', metadata={'source':'I1'}),\n",
    "    Document(page_content='Heart-healthy habits can significantly lower the risk of cardiovascular diseases.', metadata={'source':'I2'}),\n",
    "    Document(page_content='Essential nutrients support the immune system and overall health maintenance.', metadata={'source':'I3'}),\n",
    "    Document(page_content='Effective strategies can help reduce stress and promote emotional resilience.', metadata={'source':'I4'}),\n",
    "    Document(page_content='Effective strategies can help reduce stress and promote emotional resilience.', metadata={'source':'I5'}),\n",
    "]"
   ]
  },
  {
   "cell_type": "code",
   "execution_count": 20,
   "id": "9f6e3083",
   "metadata": {},
   "outputs": [],
   "source": [
    "embeddings = HuggingFaceEmbeddings(\n",
    "    model_name=\"sentence-transformers/all-MiniLM-L6-v2\",\n",
    "    model_kwargs={\"trust_remote_code\": True}\n",
    ")\n",
    "\n",
    "vector_store = FAISS.from_documents(\n",
    "    documents=documents,\n",
    "    embedding = embeddings\n",
    ")"
   ]
  },
  {
   "cell_type": "code",
   "execution_count": 21,
   "id": "360904c9",
   "metadata": {},
   "outputs": [],
   "source": [
    "similarity_retriever = vector_store.as_retriever(search_type = 'similarity', search_kwargs={'k':5})"
   ]
  },
  {
   "cell_type": "code",
   "execution_count": 22,
   "id": "6a808b2c",
   "metadata": {},
   "outputs": [],
   "source": [
    "MultiQueryRetriever = MultiQueryRetriever.from_llm(retriever=vector_store.as_retriever(search_kwargs={'k':5}),\n",
    "                             llm=model)"
   ]
  },
  {
   "cell_type": "code",
   "execution_count": 23,
   "id": "c37d24d3",
   "metadata": {},
   "outputs": [],
   "source": [
    "query = 'how to improove our energy level and maintain balance'"
   ]
  },
  {
   "cell_type": "code",
   "execution_count": 24,
   "id": "d1f14011",
   "metadata": {},
   "outputs": [],
   "source": [
    "similarity_retriever_results = similarity_retriever.invoke(query)\n",
    "MultiQueryRetriever_results = MultiQueryRetriever.invoke(query)"
   ]
  },
  {
   "cell_type": "code",
   "execution_count": 25,
   "id": "6364f17d",
   "metadata": {},
   "outputs": [
    {
     "data": {
      "text/plain": [
       "[Document(id='71bcfdae-9e5d-4989-a89a-0a7544c8663f', metadata={'source': 'H4'}, page_content='Drinking enough water is fundamental for maintaining bodily functions and energy levels.'),\n",
       " Document(id='b553a72e-c5aa-446b-aa83-52e5fb65138d', metadata={'source': 'H2'}, page_content='A balanced diet rich in fruits, vegetables, and whole grains supports optimal wellness.'),\n",
       " Document(id='7ccfcb35-472f-4b65-939b-ae435ec20c4e', metadata={'source': 'H1'}, page_content='\"Regular physical activity improves overall health and reduces the risk of chronic diseases.'),\n",
       " Document(id='11ef2c50-2164-47e1-9703-59d262f0921a', metadata={'source': 'I4'}, page_content='Effective strategies can help reduce stress and promote emotional resilience.'),\n",
       " Document(id='d8ecd310-c43c-4cd6-af0e-fe741490256d', metadata={'source': 'I5'}, page_content='Effective strategies can help reduce stress and promote emotional resilience.')]"
      ]
     },
     "execution_count": 25,
     "metadata": {},
     "output_type": "execute_result"
    }
   ],
   "source": [
    "similarity_retriever_results"
   ]
  },
  {
   "cell_type": "code",
   "execution_count": 26,
   "id": "127a7c7e",
   "metadata": {},
   "outputs": [
    {
     "data": {
      "text/plain": [
       "[Document(id='11ef2c50-2164-47e1-9703-59d262f0921a', metadata={'source': 'I4'}, page_content='Effective strategies can help reduce stress and promote emotional resilience.'),\n",
       " Document(id='d8ecd310-c43c-4cd6-af0e-fe741490256d', metadata={'source': 'I5'}, page_content='Effective strategies can help reduce stress and promote emotional resilience.'),\n",
       " Document(id='71bcfdae-9e5d-4989-a89a-0a7544c8663f', metadata={'source': 'H4'}, page_content='Drinking enough water is fundamental for maintaining bodily functions and energy levels.'),\n",
       " Document(id='b553a72e-c5aa-446b-aa83-52e5fb65138d', metadata={'source': 'H2'}, page_content='A balanced diet rich in fruits, vegetables, and whole grains supports optimal wellness.'),\n",
       " Document(id='7ccfcb35-472f-4b65-939b-ae435ec20c4e', metadata={'source': 'H1'}, page_content='\"Regular physical activity improves overall health and reduces the risk of chronic diseases.'),\n",
       " Document(id='18f03980-fa9f-4920-a793-30df385b76e6', metadata={'source': 'I2'}, page_content='Heart-healthy habits can significantly lower the risk of cardiovascular diseases.'),\n",
       " Document(id='fa1545ee-e61f-497a-ae8c-ff0e78f55637', metadata={'source': 'H3'}, page_content='Meditation can reduce stress and improve mental clarity and emotional well-being'),\n",
       " Document(id='ad91a3e6-d6f3-4600-87cb-9e3c7161ace1', metadata={'source': 'H4'}, page_content='Quality sleep is essential for physical restoration and cognitive function')]"
      ]
     },
     "execution_count": 26,
     "metadata": {},
     "output_type": "execute_result"
    }
   ],
   "source": [
    "MultiQueryRetriever_results"
   ]
  },
  {
   "cell_type": "code",
   "execution_count": null,
   "id": "88b86ac9",
   "metadata": {},
   "outputs": [],
   "source": []
  }
 ],
 "metadata": {
  "kernelspec": {
   "display_name": "Python (RAG_projects)",
   "language": "python",
   "name": "rag_projects"
  },
  "language_info": {
   "codemirror_mode": {
    "name": "ipython",
    "version": 3
   },
   "file_extension": ".py",
   "mimetype": "text/x-python",
   "name": "python",
   "nbconvert_exporter": "python",
   "pygments_lexer": "ipython3",
   "version": "3.13.3"
  }
 },
 "nbformat": 4,
 "nbformat_minor": 5
}
