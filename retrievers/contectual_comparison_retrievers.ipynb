{
 "cells": [
  {
   "cell_type": "code",
   "execution_count": 4,
   "id": "0b7161ee",
   "metadata": {},
   "outputs": [],
   "source": [
    "from langchain_community.vectorstores import FAISS\n",
    "from langchain.embeddings import HuggingFaceEmbeddings\n",
    "from langchain_openai import ChatOpenAI\n",
    "from langchain.retrievers.contextual_compression import ContextualCompressionRetriever\n",
    "from langchain.retrievers.document_compressors import LLMChainExtractor\n",
    "from langchain_core.documents import Document\n",
    "import os"
   ]
  },
  {
   "cell_type": "code",
   "execution_count": 5,
   "id": "6da73ffc",
   "metadata": {},
   "outputs": [],
   "source": [
    "documents = [\n",
    "    Document(page_content='\"Regular physical activity improves overall health and reduces the risk of chronic diseases.', metadata={'source':'H1'}),\n",
    "    Document(page_content='A balanced diet rich in fruits, vegetables, and whole grains supports optimal wellness.', metadata={'source':'H2'}),\n",
    "    Document(page_content='Meditation can reduce stress and improve mental clarity and emotional well-being', metadata={'source':'H3'}),\n",
    "    Document(page_content='Quality sleep is essential for physical restoration and cognitive function', metadata={'source':'H4'}),\n",
    "    Document(page_content='Drinking enough water is fundamental for maintaining bodily functions and energy levels.', metadata={'source':'H4'}),\n",
    "    Document(page_content='Lifestyle changes and natural remedies can help manage anxiety symptoms effectively.', metadata={'source':'H5'}),\n",
    "    Document(page_content='Yoga enhances flexibility, strength, and mental relaxation.', metadata={'source':'I1'}),\n",
    "    Document(page_content='Heart-healthy habits can significantly lower the risk of cardiovascular diseases.', metadata={'source':'I2'}),\n",
    "    Document(page_content='Essential nutrients support the immune system and overall health maintenance.', metadata={'source':'I3'}),\n",
    "    Document(page_content='Effective strategies can help reduce stress and promote emotional resilience.', metadata={'source':'I4'}),\n",
    "    Document(page_content='Effective strategies can help reduce stress and promote emotional resilience.', metadata={'source':'I5'}),\n",
    "]"
   ]
  },
  {
   "cell_type": "code",
   "execution_count": 6,
   "id": "e86c3194",
   "metadata": {},
   "outputs": [],
   "source": [
    "os.environ[\"OPENAI_API_BASE\"] = \"https://openrouter.ai/api/v1\"\n",
    "os.environ[\"OPENAI_API_KEY\"] = \"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\"\n",
    "\n",
    "model = ChatOpenAI(model=\"deepseek/deepseek-r1:free\")"
   ]
  },
  {
   "cell_type": "code",
   "execution_count": 7,
   "id": "e1c50c1f",
   "metadata": {},
   "outputs": [
    {
     "name": "stderr",
     "output_type": "stream",
     "text": [
      "C:\\Users\\gauta\\AppData\\Local\\Temp\\ipykernel_10984\\3775599942.py:1: LangChainDeprecationWarning: The class `HuggingFaceEmbeddings` was deprecated in LangChain 0.2.2 and will be removed in 1.0. An updated version of the class exists in the :class:`~langchain-huggingface package and should be used instead. To use it run `pip install -U :class:`~langchain-huggingface` and import as `from :class:`~langchain_huggingface import HuggingFaceEmbeddings``.\n",
      "  embeddings = HuggingFaceEmbeddings(\n"
     ]
    }
   ],
   "source": [
    "embeddings = HuggingFaceEmbeddings(\n",
    "    model_name=\"sentence-transformers/all-MiniLM-L6-v2\",\n",
    "    model_kwargs={\"trust_remote_code\": True}\n",
    ")\n",
    "\n",
    "vector_store = FAISS.from_documents(\n",
    "    documents=documents,\n",
    "    embedding = embeddings\n",
    ")"
   ]
  },
  {
   "cell_type": "code",
   "execution_count": 9,
   "id": "0c0cf6df",
   "metadata": {},
   "outputs": [],
   "source": [
    "base_retriever = vector_store.as_retriever(search_kwargs={'k':5})\n",
    "compressor = LLMChainExtractor.from_llm(model)"
   ]
  },
  {
   "cell_type": "code",
   "execution_count": 11,
   "id": "303c5b81",
   "metadata": {},
   "outputs": [],
   "source": [
    "compressor_retriever = ContextualCompressionRetriever(\n",
    "    base_retriever=base_retriever,\n",
    "    base_compressor=compressor\n",
    ")"
   ]
  },
  {
   "cell_type": "code",
   "execution_count": 12,
   "id": "4dbd1241",
   "metadata": {},
   "outputs": [],
   "source": [
    "query = 'what is balanced diet'\n",
    "compressed_result = compressor_retriever.invoke(query)"
   ]
  },
  {
   "cell_type": "code",
   "execution_count": 13,
   "id": "b26c873e",
   "metadata": {},
   "outputs": [
    {
     "name": "stdout",
     "output_type": "stream",
     "text": [
      "\n",
      "----------Result 1--------\n",
      "Content:\n",
      "Extracted relevant parts: A balanced diet rich in fruits, vegetables, and whole grains supports optimal wellness.\n",
      "\n",
      "----------Result 2--------\n",
      "Content:\n",
      "Extracted relevant parts: Essential nutrients support the immune system and overall health maintenance.\n"
     ]
    }
   ],
   "source": [
    "for i, doc in enumerate(compressed_result):\n",
    "    print(f'\\n----------Result {i+1}--------')\n",
    "    print(f'Content:\\n{doc.page_content}')"
   ]
  },
  {
   "cell_type": "code",
   "execution_count": null,
   "id": "8e433c90",
   "metadata": {},
   "outputs": [],
   "source": []
  }
 ],
 "metadata": {
  "kernelspec": {
   "display_name": "Python (RAG_projects)",
   "language": "python",
   "name": "rag_projects"
  },
  "language_info": {
   "codemirror_mode": {
    "name": "ipython",
    "version": 3
   },
   "file_extension": ".py",
   "mimetype": "text/x-python",
   "name": "python",
   "nbconvert_exporter": "python",
   "pygments_lexer": "ipython3",
   "version": "3.13.3"
  }
 },
 "nbformat": 4,
 "nbformat_minor": 5
}
