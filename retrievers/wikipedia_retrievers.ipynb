{
 "cells": [
  {
   "cell_type": "code",
   "execution_count": 1,
   "id": "ed9a19a6",
   "metadata": {},
   "outputs": [],
   "source": [
    "from langchain_community.retrievers import WikipediaRetriever"
   ]
  },
  {
   "cell_type": "code",
   "execution_count": 2,
   "id": "8d75e954",
   "metadata": {},
   "outputs": [],
   "source": [
    "retriever = WikipediaRetriever(top_k_results= 2, lang='en')"
   ]
  },
  {
   "cell_type": "code",
   "execution_count": null,
   "id": "450909f3",
   "metadata": {},
   "outputs": [],
   "source": [
    "# write query\n",
    "query = 'The history of india'\n",
    "\n",
    "# invoke the retriever\n",
    "docs = retriever.invoke(query)"
   ]
  },
  {
   "cell_type": "code",
   "execution_count": 8,
   "id": "f0011448",
   "metadata": {},
   "outputs": [
    {
     "data": {
      "text/plain": [
       "[Document(metadata={'title': 'History of India', 'summary': \"Anatomically modern humans first arrived on the Indian subcontinent between 73,000 and 55,000 years ago. The earliest known human remains in South Asia date to 30,000 years ago. Sedentariness began in South Asia around 7000 BCE; by 4500 BCE, settled life had spread, and gradually evolved into the Indus Valley Civilisation, one of three early cradles of civilisation in the Old World, which flourished between 2500 BCE and 1900 BCE in present-day Pakistan and north-western India. Early in the second millennium BCE, persistent drought caused the population of the Indus Valley to scatter from large urban centres to villages. Indo-Aryan tribes moved into the Punjab from Central Asia in several waves of migration. The Vedic Period of the Vedic people in northern India (1500–500 BCE) was marked by the composition of their extensive collections of hymns (Vedas). The social structure was loosely stratified via the varna system, incorporated into the highly evolved present-day Jāti system. The pastoral and nomadic Indo-Aryans spread from the Punjab into the Gangetic plain. Around 600 BCE, a new, interregional culture arose; then, small chieftaincies (janapadas) were consolidated into larger states (mahajanapadas). Second urbanization took place, which came with the rise of new ascetic movements and religious concepts, including the rise of Jainism and Buddhism. The latter was synthesized with the preexisting religious cultures of the subcontinent, giving rise to Hinduism.\\n\\nChandragupta Maurya overthrew the Nanda Empire and established the first great empire in ancient India, the Maurya Empire. India's Mauryan king Ashoka is widely recognised for the violent kalinga war and his historical acceptance of Buddhism and his attempts to spread nonviolence and peace across his empire. The Maurya Empire would collapse in 185 BCE, on the assassination of the then-emperor Brihadratha by his general Pushyamitra Shunga. Shunga would form the Shunga Empire in the north and north-east of the subcontinent, while the Greco-Bactrian Kingdom would claim the north-west and found the Indo-Greek Kingdom. Various parts of India were ruled by numerous dynasties, including the Gupta Empire, in the 4th to 6th centuries CE. This period, witnessing a Hindu religious and intellectual resurgence is known as the Classical or Golden Age of India. Aspects of Indian civilisation, administration, culture, and religion spread to much of Asia, which led to the establishment of Indianised kingdoms in the region, forming Greater India. The most significant event between the 7th and 11th centuries was the Tripartite struggle centred on Kannauj. Southern India saw the rise of multiple imperial powers from the middle of the fifth century. The Chola dynasty conquered southern India in the 11th century. In the early medieval period, Indian mathematics, including Hindu numerals, influenced the development of mathematics and astronomy in the Arab world, including the creation of the Hindu-Arabic numeral system.\\nIslamic conquests made limited inroads into modern Afghanistan and Sindh as early as the 8th century, followed by the invasions of Mahmud Ghazni.\\nThe Delhi Sultanate, established in 1206 by Central Asian Turks, ruled much of northern India in the 14th century. It was governed by various Turkic and Afghan dynasties, including the Indo-Turkic Tughlaqs. The empire declined in the late 14th century following the invasions of Timur and saw the advent of the Malwa, Gujarat, and Bahmani sultanates, the last of which split in 1518 into the five Deccan sultanates. The wealthy Bengal Sultanate also emerged as a major power, lasting over three centuries. During this period, multiple strong Hindu kingdoms, notably the Vijayanagara Empire and Rajput states under the Kingdom of Mewar emerged and played significant roles in shaping the cultural and political landscape of India.\\nThe early modern period began in the 16th century, when the Mughal Empire conquered most of the Indian subcontinent, signaling the proto-industrialisation, becoming the biggest global economy and manufacturing power. The Mughals suffered a gradual decline in the early 18th century, largely due to the rising power of the Marathas, who took control of extensive regions of the Indian subcontinent, and numerous Afghan invasions. The East India Company, acting as a sovereign force on behalf of the British government, gradually acquired control of huge areas of India between the middle of the 18th and the middle of the 19th centuries. Policies of company rule in India led to the Indian Rebellion of 1857. India was afterwards ruled directly by the British Crown, in the British Raj. After World War I, a nationwide struggle for independence was launched by the Indian National Congress, led by Mahatma Gandhi. Later, the All-India Muslim League would advocate for a separate Muslim-majority nation state. The British Indian Empire was partitioned in August 1947 into the Dominion of India and Dominion of Pakistan, each gaining its independence.\", 'source': 'https://en.wikipedia.org/wiki/History_of_India'}, page_content=\"Anatomically modern humans first arrived on the Indian subcontinent between 73,000 and 55,000 years ago. The earliest known human remains in South Asia date to 30,000 years ago. Sedentariness began in South Asia around 7000 BCE; by 4500 BCE, settled life had spread, and gradually evolved into the Indus Valley Civilisation, one of three early cradles of civilisation in the Old World, which flourished between 2500 BCE and 1900 BCE in present-day Pakistan and north-western India. Early in the second millennium BCE, persistent drought caused the population of the Indus Valley to scatter from large urban centres to villages. Indo-Aryan tribes moved into the Punjab from Central Asia in several waves of migration. The Vedic Period of the Vedic people in northern India (1500–500 BCE) was marked by the composition of their extensive collections of hymns (Vedas). The social structure was loosely stratified via the varna system, incorporated into the highly evolved present-day Jāti system. The pastoral and nomadic Indo-Aryans spread from the Punjab into the Gangetic plain. Around 600 BCE, a new, interregional culture arose; then, small chieftaincies (janapadas) were consolidated into larger states (mahajanapadas). Second urbanization took place, which came with the rise of new ascetic movements and religious concepts, including the rise of Jainism and Buddhism. The latter was synthesized with the preexisting religious cultures of the subcontinent, giving rise to Hinduism.\\n\\nChandragupta Maurya overthrew the Nanda Empire and established the first great empire in ancient India, the Maurya Empire. India's Mauryan king Ashoka is widely recognised for the violent kalinga war and his historical acceptance of Buddhism and his attempts to spread nonviolence and peace across his empire. The Maurya Empire would collapse in 185 BCE, on the assassination of the then-emperor Brihadratha by his general Pushyamitra Shunga. Shunga would form the Shunga Empire in the north and north-east of the subcontinent, while the Greco-Bactrian Kingdom would claim the north-west and found the Indo-Greek Kingdom. Various parts of India were ruled by numerous dynasties, including the Gupta Empire, in the 4th to 6th centuries CE. This period, witnessing a Hindu religious and intellectual resurgence is known as the Classical or Golden Age of India. Aspects of Indian civilisation, administration, culture, and religion spread to much of Asia, which led to the establishment of Indianised kingdoms in the region, forming Greater India. The most significant event between the 7th and 11th centuries was the Tripartite struggle centred on Kannauj. Southern India saw the rise of multiple imperial powers from the middle of the fifth century. The Chola dynasty conquered southern India in the 11th century. In the early medieval period, Indian mathematics, including Hindu numerals, influenced the development of mathematics and astronomy in the Arab world, including the creation of the Hindu-Arabic numeral system.\\nIslamic conquests made limited inroads into modern Afghanistan and Sindh as early as the 8th century, followed by the invasions of Mahmud Ghazni.\\nThe Delhi Sultanate, established in 1206 by Central Asian Turks, ruled much of northern India in the 14th century. It was governed by various Turkic and Afghan dynasties, including the Indo-Turkic Tughlaqs. The empire declined in the late 14th century following the invasions of Timur and saw the advent of the Malwa, Gujarat, and Bahmani sultanates, the last of which split in 1518 into the five Deccan sultanates. The wealthy Bengal Sultanate also emerged as a major power, lasting over three centuries. During this period, multiple strong Hindu kingdoms, notably the Vijayanagara Empire and Rajput states under the Kingdom of Mewar emerged and played significant roles in shaping the cultural and political landscape of India.\\nThe early modern period began in the 16th century, when the Mughal Empire conquered most of the Indian subcontinen\"),\n",
       " Document(metadata={'title': 'Economic history of India', 'summary': 'Around 500 BC, the Mahajanapadas minted punch-marked silver coins. The period was marked by intensive trade activity and urban development. By 300 BC, the Maurya Empire had united most of the Indian subcontinent except Tamilakam, allowing for a common economic system and enhanced trade and commerce, with increased agricultural productivity. The Maurya Empire was followed by classical and early medieval kingdoms. The Indian subcontinent, due to its large population, had the largest economy of any region in the world for most of the interval between the 1st and 18th centuries. Angus Maddison estimates that from 1-1000 AD India constituted roughly 30% of the world\\'s Population and GDP.\\nIndia experienced per-capita GDP growth in the high medieval era, coinciding with the Delhi Sultanate. By the late 17th century, most of the Indian subcontinent had been reunited under the Mughal Empire, which for a time Maddison estimates became the largest economy and manufacturing power in the world, producing about a quarter of global GDP, before fragmenting and being conquered over the next century. By the 18th century, the Mysoreans had embarked on an ambitious economic development program that established the Kingdom of Mysore as a major economic power. Sivramkrishna analyzing agricultural surveys conducted in Mysore by  Francis Buchanan in 1800–1801, arrived at estimates, using \"subsistence basket\", that aggregated millet income could be almost five times subsistence level. The Maratha Empire also managed an effective administration and tax collection policy throughout the core areas under its control and extracted chauth from vassal states.\\nIndia experienced deindustrialisation and cessation of various craft industries under British rule, which along with fast economic and population growth in the Western world, resulted in India\\'s share of the world economy declining from 24.4% in 1700 to 4.2% in 1950, and its share of global industrial output declining from 25% in 1750 to 2% in 1900. Due to its ancient history as a trading zone and later its colonial status, colonial India remained economically integrated with the world, with high levels of trade, investment and migration.\\nFrom 1850 to 1947, India\\'s GDP in 1990 international dollar terms grew from $125.7 billion to $213.7 billion, a 70% increase, or an average annual growth rate of 0.55%. In 1820, India\\'s GDP was 16% of the global GDP. By 1870, it had fallen to 12%, and by 1947 to 4%.\\nThe Republic of India, founded in 1947, adopted central planning for most of its independent history, with extensive public ownership, regulation, red tape and trade barriers. After the 1991 economic crisis, the central government began policy of economic liberalisation.', 'source': 'https://en.wikipedia.org/wiki/Economic_history_of_India'}, page_content='Around 500 BC, the Mahajanapadas minted punch-marked silver coins. The period was marked by intensive trade activity and urban development. By 300 BC, the Maurya Empire had united most of the Indian subcontinent except Tamilakam, allowing for a common economic system and enhanced trade and commerce, with increased agricultural productivity. The Maurya Empire was followed by classical and early medieval kingdoms. The Indian subcontinent, due to its large population, had the largest economy of any region in the world for most of the interval between the 1st and 18th centuries. Angus Maddison estimates that from 1-1000 AD India constituted roughly 30% of the world\\'s Population and GDP.\\nIndia experienced per-capita GDP growth in the high medieval era, coinciding with the Delhi Sultanate. By the late 17th century, most of the Indian subcontinent had been reunited under the Mughal Empire, which for a time Maddison estimates became the largest economy and manufacturing power in the world, producing about a quarter of global GDP, before fragmenting and being conquered over the next century. By the 18th century, the Mysoreans had embarked on an ambitious economic development program that established the Kingdom of Mysore as a major economic power. Sivramkrishna analyzing agricultural surveys conducted in Mysore by  Francis Buchanan in 1800–1801, arrived at estimates, using \"subsistence basket\", that aggregated millet income could be almost five times subsistence level. The Maratha Empire also managed an effective administration and tax collection policy throughout the core areas under its control and extracted chauth from vassal states.\\nIndia experienced deindustrialisation and cessation of various craft industries under British rule, which along with fast economic and population growth in the Western world, resulted in India\\'s share of the world economy declining from 24.4% in 1700 to 4.2% in 1950, and its share of global industrial output declining from 25% in 1750 to 2% in 1900. Due to its ancient history as a trading zone and later its colonial status, colonial India remained economically integrated with the world, with high levels of trade, investment and migration.\\nFrom 1850 to 1947, India\\'s GDP in 1990 international dollar terms grew from $125.7 billion to $213.7 billion, a 70% increase, or an average annual growth rate of 0.55%. In 1820, India\\'s GDP was 16% of the global GDP. By 1870, it had fallen to 12%, and by 1947 to 4%.\\nThe Republic of India, founded in 1947, adopted central planning for most of its independent history, with extensive public ownership, regulation, red tape and trade barriers. After the 1991 economic crisis, the central government began policy of economic liberalisation.\\n\\n\\n== Indus Valley Civilization ==\\n\\nThe Indus Valley civilisation, the first known permanent and predominantly urban settlement, flourished between 3500 BCE and 1800 BCE. It featured an advanced and thriving economic system. Its citizens practised agriculture, domesticated animals, made sharp tools and weapons from copper, bronze and tin, and traded with other cities. Evidence of well-laid streets, drainage systems and water supply in the valley\\'s major cities, Dholavira, Harappa, Lothal, Mohenjo-daro and Rakhigarhi, reveals their knowledge of urban planning.\\n\\n\\n== Ancient and medieval characteristics ==\\n\\nAlthough ancient India had a significant urban population, much of India\\'s population resided in villages, whose economies were largely isolated and self-sustaining. Agriculture was the predominant occupation and satisfied a village\\'s food requirements while providing raw materials for hand-based industries such as textile, food processing and crafts. Besides farmers, people worked as barbers, carpenters, doctors (Ayurvedic practitioners), goldsmiths and weavers.\\n\\n\\n=== Religion ===\\nReligion played an influential role in shaping economic activities. [Pilgrimage] towns like [Prayagraj], [Varanasi], [Nasik] and [Puri], mostly centred around riv')]"
      ]
     },
     "execution_count": 8,
     "metadata": {},
     "output_type": "execute_result"
    }
   ],
   "source": [
    "docs"
   ]
  },
  {
   "cell_type": "code",
   "execution_count": 9,
   "id": "df83a6e5",
   "metadata": {},
   "outputs": [
    {
     "name": "stdout",
     "output_type": "stream",
     "text": [
      "\n",
      "-------Result 1 -------\n",
      "Content:\n",
      " Anatomically modern humans first arrived on the Indian subcontinent between 73,000 and 55,000 years ago. The earliest known human remains in South Asia date to 30,000 years ago. Sedentariness began in South Asia around 7000 BCE; by 4500 BCE, settled life had spread, and gradually evolved into the Indus Valley Civilisation, one of three early cradles of civilisation in the Old World, which flourished between 2500 BCE and 1900 BCE in present-day Pakistan and north-western India. Early in the second millennium BCE, persistent drought caused the population of the Indus Valley to scatter from large urban centres to villages. Indo-Aryan tribes moved into the Punjab from Central Asia in several waves of migration. The Vedic Period of the Vedic people in northern India (1500–500 BCE) was marked by the composition of their extensive collections of hymns (Vedas). The social structure was loosely stratified via the varna system, incorporated into the highly evolved present-day Jāti system. The pastoral and nomadic Indo-Aryans spread from the Punjab into the Gangetic plain. Around 600 BCE, a new, interregional culture arose; then, small chieftaincies (janapadas) were consolidated into larger states (mahajanapadas). Second urbanization took place, which came with the rise of new ascetic movements and religious concepts, including the rise of Jainism and Buddhism. The latter was synthesized with the preexisting religious cultures of the subcontinent, giving rise to Hinduism.\n",
      "\n",
      "Chandragupta Maurya overthrew the Nanda Empire and established the first great empire in ancient India, the Maurya Empire. India's Mauryan king Ashoka is widely recognised for the violent kalinga war and his historical acceptance of Buddhism and his attempts to spread nonviolence and peace across his empire. The Maurya Empire would collapse in 185 BCE, on the assassination of the then-emperor Brihadratha by his general Pushyamitra Shunga. Shunga would form the Shunga Empire in the north and north-east of the subcontinent, while the Greco-Bactrian Kingdom would claim the north-west and found the Indo-Greek Kingdom. Various parts of India were ruled by numerous dynasties, including the Gupta Empire, in the 4th to 6th centuries CE. This period, witnessing a Hindu religious and intellectual resurgence is known as the Classical or Golden Age of India. Aspects of Indian civilisation, administration, culture, and religion spread to much of Asia, which led to the establishment of Indianised kingdoms in the region, forming Greater India. The most significant event between the 7th and 11th centuries was the Tripartite struggle centred on Kannauj. Southern India saw the rise of multiple imperial powers from the middle of the fifth century. The Chola dynasty conquered southern India in the 11th century. In the early medieval period, Indian mathematics, including Hindu numerals, influenced the development of mathematics and astronomy in the Arab world, including the creation of the Hindu-Arabic numeral system.\n",
      "Islamic conquests made limited inroads into modern Afghanistan and Sindh as early as the 8th century, followed by the invasions of Mahmud Ghazni.\n",
      "The Delhi Sultanate, established in 1206 by Central Asian Turks, ruled much of northern India in the 14th century. It was governed by various Turkic and Afghan dynasties, including the Indo-Turkic Tughlaqs. The empire declined in the late 14th century following the invasions of Timur and saw the advent of the Malwa, Gujarat, and Bahmani sultanates, the last of which split in 1518 into the five Deccan sultanates. The wealthy Bengal Sultanate also emerged as a major power, lasting over three centuries. During this period, multiple strong Hindu kingdoms, notably the Vijayanagara Empire and Rajput states under the Kingdom of Mewar emerged and played significant roles in shaping the cultural and political landscape of India.\n",
      "The early modern period began in the 16th century, when the Mughal Empire conquered most of the Indian subcontinen...\n",
      "\n",
      "-------Result 2 -------\n",
      "Content:\n",
      " Around 500 BC, the Mahajanapadas minted punch-marked silver coins. The period was marked by intensive trade activity and urban development. By 300 BC, the Maurya Empire had united most of the Indian subcontinent except Tamilakam, allowing for a common economic system and enhanced trade and commerce, with increased agricultural productivity. The Maurya Empire was followed by classical and early medieval kingdoms. The Indian subcontinent, due to its large population, had the largest economy of any region in the world for most of the interval between the 1st and 18th centuries. Angus Maddison estimates that from 1-1000 AD India constituted roughly 30% of the world's Population and GDP.\n",
      "India experienced per-capita GDP growth in the high medieval era, coinciding with the Delhi Sultanate. By the late 17th century, most of the Indian subcontinent had been reunited under the Mughal Empire, which for a time Maddison estimates became the largest economy and manufacturing power in the world, producing about a quarter of global GDP, before fragmenting and being conquered over the next century. By the 18th century, the Mysoreans had embarked on an ambitious economic development program that established the Kingdom of Mysore as a major economic power. Sivramkrishna analyzing agricultural surveys conducted in Mysore by  Francis Buchanan in 1800–1801, arrived at estimates, using \"subsistence basket\", that aggregated millet income could be almost five times subsistence level. The Maratha Empire also managed an effective administration and tax collection policy throughout the core areas under its control and extracted chauth from vassal states.\n",
      "India experienced deindustrialisation and cessation of various craft industries under British rule, which along with fast economic and population growth in the Western world, resulted in India's share of the world economy declining from 24.4% in 1700 to 4.2% in 1950, and its share of global industrial output declining from 25% in 1750 to 2% in 1900. Due to its ancient history as a trading zone and later its colonial status, colonial India remained economically integrated with the world, with high levels of trade, investment and migration.\n",
      "From 1850 to 1947, India's GDP in 1990 international dollar terms grew from $125.7 billion to $213.7 billion, a 70% increase, or an average annual growth rate of 0.55%. In 1820, India's GDP was 16% of the global GDP. By 1870, it had fallen to 12%, and by 1947 to 4%.\n",
      "The Republic of India, founded in 1947, adopted central planning for most of its independent history, with extensive public ownership, regulation, red tape and trade barriers. After the 1991 economic crisis, the central government began policy of economic liberalisation.\n",
      "\n",
      "\n",
      "== Indus Valley Civilization ==\n",
      "\n",
      "The Indus Valley civilisation, the first known permanent and predominantly urban settlement, flourished between 3500 BCE and 1800 BCE. It featured an advanced and thriving economic system. Its citizens practised agriculture, domesticated animals, made sharp tools and weapons from copper, bronze and tin, and traded with other cities. Evidence of well-laid streets, drainage systems and water supply in the valley's major cities, Dholavira, Harappa, Lothal, Mohenjo-daro and Rakhigarhi, reveals their knowledge of urban planning.\n",
      "\n",
      "\n",
      "== Ancient and medieval characteristics ==\n",
      "\n",
      "Although ancient India had a significant urban population, much of India's population resided in villages, whose economies were largely isolated and self-sustaining. Agriculture was the predominant occupation and satisfied a village's food requirements while providing raw materials for hand-based industries such as textile, food processing and crafts. Besides farmers, people worked as barbers, carpenters, doctors (Ayurvedic practitioners), goldsmiths and weavers.\n",
      "\n",
      "\n",
      "=== Religion ===\n",
      "Religion played an influential role in shaping economic activities. [Pilgrimage] towns like [Prayagraj], [Varanasi], [Nasik] and [Puri], mostly centred around riv...\n"
     ]
    }
   ],
   "source": [
    "for i, doc in enumerate(docs):\n",
    "    print(f'\\n-------Result {i+1} -------')\n",
    "    print(f'Content:\\n {doc.page_content}...')"
   ]
  },
  {
   "cell_type": "code",
   "execution_count": null,
   "id": "e8b29c61",
   "metadata": {},
   "outputs": [],
   "source": []
  }
 ],
 "metadata": {
  "kernelspec": {
   "display_name": "Python (RAG_projects)",
   "language": "python",
   "name": "rag_projects"
  },
  "language_info": {
   "codemirror_mode": {
    "name": "ipython",
    "version": 3
   },
   "file_extension": ".py",
   "mimetype": "text/x-python",
   "name": "python",
   "nbconvert_exporter": "python",
   "pygments_lexer": "ipython3",
   "version": "3.13.3"
  }
 },
 "nbformat": 4,
 "nbformat_minor": 5
}
