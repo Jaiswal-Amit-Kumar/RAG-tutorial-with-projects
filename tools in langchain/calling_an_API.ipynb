{
 "cells": [
  {
   "cell_type": "code",
   "execution_count": 290,
   "id": "7ae4f05f",
   "metadata": {},
   "outputs": [],
   "source": [
    "from langchain_openai import ChatOpenAI\n",
    "from langchain_core.messages import HumanMessage\n",
    "from langchain_core.tools import tool, InjectedToolArg\n",
    "from typing import Annotated\n",
    "import requests\n",
    "import os\n",
    "from langchain_ollama.chat_models import ChatOllama"
   ]
  },
  {
   "cell_type": "code",
   "execution_count": 291,
   "id": "d8b237bc",
   "metadata": {},
   "outputs": [],
   "source": [
    "# os.environ[\"OPENAI_API_BASE\"] = \"https://openrouter.ai/api/v1\"\n",
    "# os.environ[\"OPENAI_API_KEY\"] = \"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\"\n",
    "\n",
    "# model = ChatOpenAI(model=\"deepseek/deepseek-chat-v3-0324:free\")"
   ]
  },
  {
   "cell_type": "code",
   "execution_count": 292,
   "id": "0b891198",
   "metadata": {},
   "outputs": [],
   "source": [
    "# Initialize the model and message\n",
    "model = ChatOllama(model=\"llama3.1\")"
   ]
  },
  {
   "cell_type": "code",
   "execution_count": 293,
   "id": "2a4b0756",
   "metadata": {},
   "outputs": [],
   "source": [
    "# create tools\n",
    "@tool\n",
    "def get_conversion(base_currency : str, target_currency: str) -> float:\n",
    "    '''\n",
    "    This function fetches the currency conversion factor between a given base currency and a target currency\n",
    "    '''\n",
    "\n",
    "    url = f'https://v6.exchangerate-api.com/v6/fae573cd0eff3ed235f7de34/pair/{base_currency}/{target_currency}'\n",
    "    response = requests.get(url)\n",
    "\n",
    "    return response.json()\n",
    "\n",
    "@tool\n",
    "def convert(base_currency_value:float, conversion_rate:Annotated[float, InjectedToolArg]) -> float:\n",
    "    '''\n",
    "    given a currency conversion rate this function calculates the target currency value from a given base currency\n",
    "    '''\n",
    "    return base_currency_value * conversion_rate"
   ]
  },
  {
   "cell_type": "code",
   "execution_count": 294,
   "id": "8f59b881",
   "metadata": {},
   "outputs": [
    {
     "data": {
      "text/plain": [
       "{'result': 'success',\n",
       " 'documentation': 'https://www.exchangerate-api.com/docs',\n",
       " 'terms_of_use': 'https://www.exchangerate-api.com/terms',\n",
       " 'time_last_update_unix': 1755820801,\n",
       " 'time_last_update_utc': 'Fri, 22 Aug 2025 00:00:01 +0000',\n",
       " 'time_next_update_unix': 1755907201,\n",
       " 'time_next_update_utc': 'Sat, 23 Aug 2025 00:00:01 +0000',\n",
       " 'base_code': 'USD',\n",
       " 'target_code': 'INR',\n",
       " 'conversion_rate': 87.2812}"
      ]
     },
     "execution_count": 294,
     "metadata": {},
     "output_type": "execute_result"
    }
   ],
   "source": [
    "get_conversion.invoke({'base_currency':'USD','target_currency':'INR'})"
   ]
  },
  {
   "cell_type": "code",
   "execution_count": 295,
   "id": "d890e1af",
   "metadata": {},
   "outputs": [
    {
     "data": {
      "text/plain": [
       "870.71"
      ]
     },
     "execution_count": 295,
     "metadata": {},
     "output_type": "execute_result"
    }
   ],
   "source": [
    "convert.invoke({'base_currency_value':10,'conversion_rate':87.071})"
   ]
  },
  {
   "cell_type": "code",
   "execution_count": 296,
   "id": "e6dec1d2",
   "metadata": {},
   "outputs": [],
   "source": [
    "query = input('Type here your query regarding conversion between two cureencys')"
   ]
  },
  {
   "cell_type": "code",
   "execution_count": 297,
   "id": "cdad1a4b",
   "metadata": {},
   "outputs": [],
   "source": [
    "message = [HumanMessage(query)]"
   ]
  },
  {
   "cell_type": "code",
   "execution_count": 298,
   "id": "3a069fba",
   "metadata": {},
   "outputs": [
    {
     "data": {
      "text/plain": [
       "[HumanMessage(content='convert 100 inr in usd', additional_kwargs={}, response_metadata={})]"
      ]
     },
     "execution_count": 298,
     "metadata": {},
     "output_type": "execute_result"
    }
   ],
   "source": [
    "message"
   ]
  },
  {
   "cell_type": "code",
   "execution_count": 299,
   "id": "0be0387c",
   "metadata": {},
   "outputs": [],
   "source": [
    "model_with_tools = model.bind_tools(\n",
    "    [get_conversion, convert],\n",
    ")"
   ]
  },
  {
   "cell_type": "code",
   "execution_count": 300,
   "id": "dc02c721",
   "metadata": {},
   "outputs": [],
   "source": [
    "ai_message = model_with_tools.invoke(message)"
   ]
  },
  {
   "cell_type": "code",
   "execution_count": 301,
   "id": "017f56d6",
   "metadata": {},
   "outputs": [
    {
     "data": {
      "text/plain": [
       "[{'name': 'get_conversion',\n",
       "  'args': {'base_currency': 'INR', 'target_currency': 'USD'},\n",
       "  'id': '168a3256-59fd-4801-bab3-1736aaebdd83',\n",
       "  'type': 'tool_call'},\n",
       " {'name': 'convert',\n",
       "  'args': {'base_currency_value': '100'},\n",
       "  'id': '63c481f6-3d3e-4a0b-8c28-4addf8e0b49a',\n",
       "  'type': 'tool_call'}]"
      ]
     },
     "execution_count": 301,
     "metadata": {},
     "output_type": "execute_result"
    }
   ],
   "source": [
    "message.append(ai_message)\n",
    "ai_message.tool_calls"
   ]
  },
  {
   "cell_type": "code",
   "execution_count": 302,
   "id": "05770b9a",
   "metadata": {},
   "outputs": [
    {
     "name": "stdout",
     "output_type": "stream",
     "text": [
      "content='{\"result\": \"success\", \"documentation\": \"https://www.exchangerate-api.com/docs\", \"terms_of_use\": \"https://www.exchangerate-api.com/terms\", \"time_last_update_unix\": 1755820801, \"time_last_update_utc\": \"Fri, 22 Aug 2025 00:00:01 +0000\", \"time_next_update_unix\": 1755907201, \"time_next_update_utc\": \"Sat, 23 Aug 2025 00:00:01 +0000\", \"base_code\": \"INR\", \"target_code\": \"USD\", \"conversion_rate\": 0.01146}' name='get_conversion' tool_call_id='168a3256-59fd-4801-bab3-1736aaebdd83'\n",
      "0.01146\n"
     ]
    }
   ],
   "source": [
    "import json\n",
    "for tool_call in ai_message.tool_calls:\n",
    "    # execute the 1st tool and get the value of conversion rate\n",
    "    if tool_call['name'] == 'get_conversion':\n",
    "        tool_message1 = get_conversion.invoke(tool_call)\n",
    "        print(tool_message1)\n",
    "        # fetch this conversion rate\n",
    "        converstion_rate = json.loads(tool_message1.content)['conversion_rate']\n",
    "        message.append(tool_message1)\n",
    "        print(converstion_rate)\n",
    "\n",
    "    # execute the 2nd tool using the conversion rate from tool1\n",
    "    if tool_call['name'] == 'convert':\n",
    "        # fetch the current arg\n",
    "        tool_call['args']['conversion_rate'] = converstion_rate\n",
    "        tool_message2 = convert.invoke(tool_call)\n",
    "        message.append(tool_message2)\n",
    "        "
   ]
  },
  {
   "cell_type": "code",
   "execution_count": 303,
   "id": "fcc802ac",
   "metadata": {},
   "outputs": [
    {
     "data": {
      "text/plain": [
       "[HumanMessage(content='convert 100 inr in usd', additional_kwargs={}, response_metadata={}),\n",
       " AIMessage(content='', additional_kwargs={}, response_metadata={'model': 'llama3.1', 'created_at': '2025-08-22T06:07:22.405675034Z', 'done': True, 'done_reason': 'stop', 'total_duration': 14628855265, 'load_duration': 242426641, 'prompt_eval_count': 246, 'prompt_eval_duration': 2739730210, 'eval_count': 49, 'eval_duration': 11643954055, 'model_name': 'llama3.1'}, id='run--582a4601-2d70-4d45-a68b-b8846163bd5d-0', tool_calls=[{'name': 'get_conversion', 'args': {'base_currency': 'INR', 'target_currency': 'USD'}, 'id': '168a3256-59fd-4801-bab3-1736aaebdd83', 'type': 'tool_call'}, {'name': 'convert', 'args': {'base_currency_value': '100', 'conversion_rate': 0.01146}, 'id': '63c481f6-3d3e-4a0b-8c28-4addf8e0b49a', 'type': 'tool_call'}], usage_metadata={'input_tokens': 246, 'output_tokens': 49, 'total_tokens': 295}),\n",
       " ToolMessage(content='{\"result\": \"success\", \"documentation\": \"https://www.exchangerate-api.com/docs\", \"terms_of_use\": \"https://www.exchangerate-api.com/terms\", \"time_last_update_unix\": 1755820801, \"time_last_update_utc\": \"Fri, 22 Aug 2025 00:00:01 +0000\", \"time_next_update_unix\": 1755907201, \"time_next_update_utc\": \"Sat, 23 Aug 2025 00:00:01 +0000\", \"base_code\": \"INR\", \"target_code\": \"USD\", \"conversion_rate\": 0.01146}', name='get_conversion', tool_call_id='168a3256-59fd-4801-bab3-1736aaebdd83'),\n",
       " ToolMessage(content='1.146', name='convert', tool_call_id='63c481f6-3d3e-4a0b-8c28-4addf8e0b49a')]"
      ]
     },
     "execution_count": 303,
     "metadata": {},
     "output_type": "execute_result"
    }
   ],
   "source": [
    "message"
   ]
  },
  {
   "cell_type": "code",
   "execution_count": 304,
   "id": "aa0bbbf5",
   "metadata": {},
   "outputs": [
    {
     "data": {
      "text/plain": [
       "'The conversion of 100 INR to USD is approximately 1.15 USD.'"
      ]
     },
     "execution_count": 304,
     "metadata": {},
     "output_type": "execute_result"
    }
   ],
   "source": [
    "model_with_tools.invoke(message).content"
   ]
  }
 ],
 "metadata": {
  "kernelspec": {
   "display_name": "Python (RAG_projects)",
   "language": "python",
   "name": "rag_projects"
  },
  "language_info": {
   "codemirror_mode": {
    "name": "ipython",
    "version": 3
   },
   "file_extension": ".py",
   "mimetype": "text/x-python",
   "name": "python",
   "nbconvert_exporter": "python",
   "pygments_lexer": "ipython3",
   "version": "3.13.3"
  }
 },
 "nbformat": 4,
 "nbformat_minor": 5
}
