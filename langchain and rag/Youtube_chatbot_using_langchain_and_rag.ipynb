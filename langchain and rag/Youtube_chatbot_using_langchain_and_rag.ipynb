{
 "cells": [
  {
   "cell_type": "code",
   "execution_count": 1,
   "id": "49f253dc",
   "metadata": {},
   "outputs": [],
   "source": [
    "from langchain_community.document_loaders import TextLoader\n",
    "from langchain_huggingface.embeddings import HuggingFaceEmbeddings\n",
    "from langchain_community.vectorstores import FAISS\n",
    "from langchain.text_splitter import RecursiveCharacterTextSplitter\n",
    "from langchain_openai import ChatOpenAI\n",
    "from langchain_core.prompts import PromptTemplate\n",
    "import os\n",
    "\n",
    "\n"
   ]
  },
  {
   "cell_type": "code",
   "execution_count": 2,
   "id": "591e4124",
   "metadata": {},
   "outputs": [],
   "source": [
    "os.environ[\"OPENAI_API_BASE\"] = \"https://openrouter.ai/api/v1\"\n",
    "os.environ[\"OPENAI_API_KEY\"] = \"Your Own API Key\"\n",
    "\n",
    "model = ChatOpenAI(model=\"deepseek/deepseek-r1:free\")"
   ]
  },
  {
   "cell_type": "markdown",
   "id": "0574fb89",
   "metadata": {},
   "source": [
    "# STEP 1A - Indexing (Document loader or Document ingestion)"
   ]
  },
  {
   "cell_type": "code",
   "execution_count": 3,
   "id": "edbab50d",
   "metadata": {},
   "outputs": [],
   "source": [
    "loader = TextLoader('russian_test.txt', encoding='utf-8')\n",
    "\n",
    "docs = loader.load()\n",
    "texts = [doc.page_content for doc in docs]"
   ]
  },
  {
   "cell_type": "code",
   "execution_count": 4,
   "id": "05c97b8d",
   "metadata": {},
   "outputs": [
    {
     "data": {
      "text/plain": [
       "['Привет всем! Я Никита. Я Марина, привет! Мы ведем подкаст «Easy Russian» от Easy Languages, \\nподкаст для тех, кто изучает русский язык, несмотря ни на что. Это седьмой выпуск нашего подкаста, \\nв котором мы поговорим о том, как война изменила русский язык. Ну, не случайно мы говорим об этом \\nименно сейчас. Все, конечно, заняты этой страшной годовщиной, которая приближается. К моменту выхода \\nподкаста до нее останется всего два дня, если я не ошибаюсь. Приближается двадцать четвертое февраля, \\nдень, когда Россия начала эту страшную, бессмысленную и очень затяжную войну, которая, мне кажется, \\nизменила жизнь всех. Да, она, конечно, изменила и язык тоже. И мы поговорим о том, какие новые слова появились. \\nИ как в принципе язык отражает то, что происходит в стране и в мире. Да, в общем, Никита, как ты уже сказал, \\nдвадцать четвертое февраля две тысячи двадцать второго года. Точно... Ну, почти год назад началась война, Россия \\nнапала на Украину, и в тот момент я был в Люксембурге в командировке. И самое странное, что к моменту выхода \\nэтого подкаста я буду точно в том же месте. Это совпадение меня немного пугает. И, честно говоря, даже с \\nнекоторым ужасом я жду, как, наверное, все 24 февраля, и что еще может сделать, сказать и объявить Владимир \\nПутин? Я также хотел сказать, что в тот момент я и понятия не имел, где мы будем через год, и тем более, \\nчто война продлится так долго. А вы? О да, это ужасно. В этот момент я буду, если все пойдет по плану, в \\nГрузии, еще одной стране, которая, безусловно, пострадала, среди огромного списка, конечно, стран, \\nпострадавших от имперских амбиций России. Сегодня у нас была запись на моей другой работе, мы записывали \\nинтервью, в том числе с документалистом Виталием Манским, и он сказал, что... Отвечая на вопрос «как преодолеть \\nимперские амбиции в себе?», он ответил: «Очень просто, не быть империей». Нужно просто перестать быть империей в \\nпервую очередь, потому что можно, конечно, тратить много энергии на размышления, на работу с собственными чувствами \\nвины, на опыт, на уроки, на какие-то моральные и этические выводы из совершенных преступлений, но в первую очередь, \\nчтобы это не повторилось, мы должны перестать быть империей. Это подводит меня к мысли, о которой говорят так много \\nлюдей, но которая пришла мне в голову в тот день совершенно сама по себе, еще до того, как я начал слышать ее, \\nповторяемую снова и снова из уст различных комментаторов, экспертов, политологов, просто неравнодушных людей. \\nЭто очень странное чувство, что я хочу, чтобы моя родина проиграла эту войну, потому что, на мой взгляд, только \\nтак она сможет действительно возродиться как нормальная, здоровая страна. Вы подняли так много тем, что я даже \\nне знаю, с чего начать. Но это, конечно, большой вопрос. Во-первых, что такое... Вопрос. Что значит проиграть в \\nэтой ситуации? И что будет с семьей? Тоже большой вопрос, я понимаю. «Что будет с родиной и с нами», да. В связи с \\nтем, что есть такие большие вопросы, а у нас все-таки подкаст о языке, я, наверное, пока не буду в них углубляться. \\nХорошо, но я напоминаю, что наш подкаст не только, не исключительно о языке, а в целом обо всем, что связано с \\nкультурой, людьми и взглядами. И война, конечно... Господи, ну кто бы... Часть культуры. И, кстати, я подхвачу \\nвашу мысль. Война действительно является частью этой культуры, и это, к сожалению, та часть, которая стала очень \\nважной для российского общества и для его языка. И в целом она формирует. Главную, формирующую, на мой взгляд, \\nдвижущую силу развития русского языка, ну, я просто все время думаю об этом с... со странным чувством, что на \\nпротяжении многих лет такие слова, как «довоенный», «военный» и «послевоенный», всегда автоматически переносили \\nнас в сороковые годы прошлого века. Довоенные песни, послевоенная мода, я не знаю, что угодно. Все, произошло \\nвнезапное обновление, сегодня везде, уже год я читаю, слушаю, смотрю разных людей, которые используют слова \\nдовоенный, послевоенный, военный. Ну, послевоенный, мы, к сожалению, еще не достигли, хотя иногда люди говорят об \\nэтом в рамках каких-то прогнозов. Все сейчас означает прямо сейчас, прямо сейчас, прямо то время, в котором мы живем. \\nИ поэтому мне очень понравилась одна фраза, которая... фраза филолога, которую я недавно прочитал, о том, что язык, \\nрусский язык специальной операции, как это называется для российских властей, является языком раздвоенной реальности. \\nИ это, мне кажется, также явно проявляется в культуре. Например, вы сказали о довоенном-послевоенном. Также в рамках \\nэтой парадигмы было очень большое деление на друга или врага.\\n']"
      ]
     },
     "execution_count": 4,
     "metadata": {},
     "output_type": "execute_result"
    }
   ],
   "source": [
    "texts"
   ]
  },
  {
   "cell_type": "markdown",
   "id": "e50463f9",
   "metadata": {},
   "source": [
    "# STEP 1b - Indexing (Text Splitter)"
   ]
  },
  {
   "cell_type": "code",
   "execution_count": 5,
   "id": "98d5bf7b",
   "metadata": {},
   "outputs": [
    {
     "name": "stdout",
     "output_type": "stream",
     "text": [
      "11\n",
      "\n",
      "Content: Привет всем! Я Никита. Я Марина, привет! Мы ведем подкаст «Easy Russian» от Easy Languages, \n",
      "подкаст для тех, кто изучает русский язык, несмотря ни на что. Это седьмой выпуск нашего подкаста, \n",
      "в котором мы поговорим о том, как война изменила русский язык. Ну, не случайно мы говорим об этом \n",
      "именно сейчас. Все, конечно, заняты этой страшной годовщиной, которая приближается. К моменту выхода \n",
      "подкаста до нее останется всего два дня, если я не ошибаюсь. Приближается двадцать четвертое февраля,\n",
      "\n"
     ]
    }
   ],
   "source": [
    "splitter = RecursiveCharacterTextSplitter(chunk_size=500, chunk_overlap=100)\n",
    "chunks = splitter.create_documents(texts)\n",
    "\n",
    "print(len(chunks))\n",
    "\n",
    "print(f'\\nContent: {chunks[0].page_content}\\n')\n",
    "\n",
    "# for i, chunks in enumerate(chunks):\n",
    "#     print(f'Document {i+1}')\n",
    "#     print(f'\\nContent: {chunks.page_content}\\n')"
   ]
  },
  {
   "cell_type": "markdown",
   "id": "0342d1f4",
   "metadata": {},
   "source": [
    "# STEP 1c - Indexing (Embedding Generation and storing in vector store)"
   ]
  },
  {
   "cell_type": "code",
   "execution_count": 6,
   "id": "3432b1de",
   "metadata": {},
   "outputs": [],
   "source": [
    "embeddings = HuggingFaceEmbeddings(\n",
    "    model_name=\"sentence-transformers/all-MiniLM-L6-v2\",\n",
    "    model_kwargs={\"trust_remote_code\": True}\n",
    ")\n",
    "vector_store = FAISS.from_documents(\n",
    "    documents=chunks,\n",
    "    embedding = embeddings\n",
    ")\n",
    "\n",
    "# add documents in the vector store\n",
    "added_vector_store = vector_store.add_documents(chunks)"
   ]
  },
  {
   "cell_type": "code",
   "execution_count": 7,
   "id": "fe11f9ac",
   "metadata": {},
   "outputs": [
    {
     "data": {
      "text/plain": [
       "['6a1cb151-c304-4691-8ddd-0255c6a69c9c',\n",
       " 'e7f28178-31ce-482d-a5db-ef2163cdffbb',\n",
       " 'beea7cc8-3baf-4c0f-825a-3c07325b6d02',\n",
       " '49eea65a-bded-40cd-92d2-b162ac6cb120',\n",
       " 'f33e9c2f-6042-47ec-97aa-df645f3ac8b5',\n",
       " '5fa69ead-612a-4de8-856c-d9043658d46d',\n",
       " '4307f7fe-e283-45f5-8125-54b2b0882021',\n",
       " 'e5f2fc23-ac26-4854-b75b-eb8d9f10ac65',\n",
       " '42f368e2-ec5f-451b-8ac2-686d14f41b20',\n",
       " '1df86f61-07e6-4701-8f09-fd6d0b46b3a3',\n",
       " '834a8122-92cb-4ac1-b08e-a8a0c9e0f039']"
      ]
     },
     "execution_count": 7,
     "metadata": {},
     "output_type": "execute_result"
    }
   ],
   "source": [
    "added_vector_store"
   ]
  },
  {
   "cell_type": "code",
   "execution_count": 8,
   "id": "2ed663d7",
   "metadata": {},
   "outputs": [
    {
     "data": {
      "text/plain": [
       "11"
      ]
     },
     "execution_count": 8,
     "metadata": {},
     "output_type": "execute_result"
    }
   ],
   "source": [
    "len(added_vector_store)"
   ]
  },
  {
   "cell_type": "code",
   "execution_count": 9,
   "id": "869b2e58",
   "metadata": {},
   "outputs": [
    {
     "data": {
      "text/plain": [
       "[]"
      ]
     },
     "execution_count": 9,
     "metadata": {},
     "output_type": "execute_result"
    }
   ],
   "source": [
    "vector_store.get_by_ids(['8ca1e6a4-3586-40e0-9a4c-6e0652dc481c'])"
   ]
  },
  {
   "cell_type": "markdown",
   "id": "1224cf04",
   "metadata": {},
   "source": [
    "# Step 2 - Retriever"
   ]
  },
  {
   "cell_type": "code",
   "execution_count": 10,
   "id": "17950751",
   "metadata": {},
   "outputs": [],
   "source": [
    "retriever = vector_store.as_retriever(search_type='similarity', search_kwargs={'k':4})"
   ]
  },
  {
   "cell_type": "code",
   "execution_count": 11,
   "id": "ada3cc93",
   "metadata": {},
   "outputs": [
    {
     "data": {
      "text/plain": [
       "[Document(id='66b01121-d081-4822-ab58-b8ceb39891f8', metadata={}, page_content='этой парадигмы было очень большое деление на друга или врага.'),\n",
       " Document(id='834a8122-92cb-4ac1-b08e-a8a0c9e0f039', metadata={}, page_content='этой парадигмы было очень большое деление на друга или врага.'),\n",
       " Document(id='43bc8391-4ca2-4b1a-8059-62f406f5e370', metadata={}, page_content='протяжении многих лет такие слова, как «довоенный», «военный» и «послевоенный», всегда автоматически переносили \\nнас в сороковые годы прошлого века. Довоенные песни, послевоенная мода, я не знаю, что угодно. Все, произошло \\nвнезапное обновление, сегодня везде, уже год я читаю, слушаю, смотрю разных людей, которые используют слова \\nдовоенный, послевоенный, военный. Ну, послевоенный, мы, к сожалению, еще не достигли, хотя иногда люди говорят об'),\n",
       " Document(id='42f368e2-ec5f-451b-8ac2-686d14f41b20', metadata={}, page_content='протяжении многих лет такие слова, как «довоенный», «военный» и «послевоенный», всегда автоматически переносили \\nнас в сороковые годы прошлого века. Довоенные песни, послевоенная мода, я не знаю, что угодно. Все, произошло \\nвнезапное обновление, сегодня везде, уже год я читаю, слушаю, смотрю разных людей, которые используют слова \\nдовоенный, послевоенный, военный. Ну, послевоенный, мы, к сожалению, еще не достигли, хотя иногда люди говорят об')]"
      ]
     },
     "execution_count": 11,
     "metadata": {},
     "output_type": "execute_result"
    }
   ],
   "source": [
    "retriever.invoke('what are benefits of technology?')"
   ]
  },
  {
   "cell_type": "markdown",
   "id": "63df44c3",
   "metadata": {},
   "source": [
    "# Step 3 - Augmentation"
   ]
  },
  {
   "cell_type": "code",
   "execution_count": 12,
   "id": "92929271",
   "metadata": {},
   "outputs": [],
   "source": [
    "prompt = PromptTemplate(\n",
    "    template='''\n",
    "You are a helpful assistant.\n",
    "answer ONLY from the provided transcript context.\n",
    "if the context is insufficient, just say you do not know.\n",
    "provide response in given language {language}\n",
    "\n",
    "{context}\n",
    "question: {question}\n",
    "    ''',\n",
    "    input_variables=['context', 'question'],\n",
    "    partial_variables={\"language\": \"russian\"}\n",
    ")"
   ]
  },
  {
   "cell_type": "code",
   "execution_count": 13,
   "id": "b4a4e42f",
   "metadata": {},
   "outputs": [],
   "source": [
    "question = 'is the topic of phones is discussed in this video? if yes then what was discussed'\n",
    "language = 'russian'\n",
    "retrieved_docs = retriever.invoke(question)"
   ]
  },
  {
   "cell_type": "code",
   "execution_count": 14,
   "id": "314d9b16",
   "metadata": {},
   "outputs": [
    {
     "data": {
      "text/plain": [
       "[Document(id='d0045684-1f83-4497-ba82-1540b322b061', metadata={}, page_content='культурой, людьми и взглядами. И война, конечно... Господи, ну кто бы... Часть культуры. И, кстати, я подхвачу \\nвашу мысль. Война действительно является частью этой культуры, и это, к сожалению, та часть, которая стала очень \\nважной для российского общества и для его языка. И в целом она формирует. Главную, формирующую, на мой взгляд, \\nдвижущую силу развития русского языка, ну, я просто все время думаю об этом с... со странным чувством, что на'),\n",
       " Document(id='e5f2fc23-ac26-4854-b75b-eb8d9f10ac65', metadata={}, page_content='культурой, людьми и взглядами. И война, конечно... Господи, ну кто бы... Часть культуры. И, кстати, я подхвачу \\nвашу мысль. Война действительно является частью этой культуры, и это, к сожалению, та часть, которая стала очень \\nважной для российского общества и для его языка. И в целом она формирует. Главную, формирующую, на мой взгляд, \\nдвижущую силу развития русского языка, ну, я просто все время думаю об этом с... со странным чувством, что на'),\n",
       " Document(id='66b01121-d081-4822-ab58-b8ceb39891f8', metadata={}, page_content='этой парадигмы было очень большое деление на друга или врага.'),\n",
       " Document(id='834a8122-92cb-4ac1-b08e-a8a0c9e0f039', metadata={}, page_content='этой парадигмы было очень большое деление на друга или врага.')]"
      ]
     },
     "execution_count": 14,
     "metadata": {},
     "output_type": "execute_result"
    }
   ],
   "source": [
    "retrieved_docs"
   ]
  },
  {
   "cell_type": "code",
   "execution_count": null,
   "id": "6b1edcff",
   "metadata": {},
   "outputs": [],
   "source": []
  },
  {
   "cell_type": "code",
   "execution_count": 15,
   "id": "3884351e",
   "metadata": {},
   "outputs": [
    {
     "ename": "NameError",
     "evalue": "name 'context_text' is not defined",
     "output_type": "error",
     "traceback": [
      "\u001b[31m---------------------------------------------------------------------------\u001b[39m",
      "\u001b[31mNameError\u001b[39m                                 Traceback (most recent call last)",
      "\u001b[36mCell\u001b[39m\u001b[36m \u001b[39m\u001b[32mIn[15]\u001b[39m\u001b[32m, line 1\u001b[39m\n\u001b[32m----> \u001b[39m\u001b[32m1\u001b[39m \u001b[43mcontext_text\u001b[49m\n",
      "\u001b[31mNameError\u001b[39m: name 'context_text' is not defined"
     ]
    }
   ],
   "source": [
    "context_text"
   ]
  },
  {
   "cell_type": "code",
   "execution_count": null,
   "id": "84d9d1c2",
   "metadata": {},
   "outputs": [],
   "source": [
    "final_prompt = prompt.invoke({'context':context_text, 'question': question, 'language': language})"
   ]
  },
  {
   "cell_type": "code",
   "execution_count": null,
   "id": "bcc827ca",
   "metadata": {},
   "outputs": [
    {
     "data": {
      "text/plain": [
       "StringPromptValue(text='\\nYou are a helpful assistant.\\nanswer ONLY from the provided transcript context.\\nif the context is insufficient, just say you do not know.\\nprovide response in given language russian\\n\\nкультурой, людьми и взглядами. И война, конечно... Господи, ну кто бы... Часть культуры. И, кстати, я подхвачу \\nвашу мысль. Война действительно является частью этой культуры, и это, к сожалению, та часть, которая стала очень \\nважной для российского общества и для его языка. И в целом она формирует. Главную, формирующую, на мой взгляд, \\nдвижущую силу развития русского языка, ну, я просто все время думаю об этом с... со странным чувством, что на\\n\\nкультурой, людьми и взглядами. И война, конечно... Господи, ну кто бы... Часть культуры. И, кстати, я подхвачу \\nвашу мысль. Война действительно является частью этой культуры, и это, к сожалению, та часть, которая стала очень \\nважной для российского общества и для его языка. И в целом она формирует. Главную, формирующую, на мой взгляд, \\nдвижущую силу развития русского языка, ну, я просто все время думаю об этом с... со странным чувством, что на\\n\\nэтой парадигмы было очень большое деление на друга или врага.\\n\\nэтой парадигмы было очень большое деление на друга или врага.\\nquestion: is the topic of phones is discussed in this video? if yes then what was discussed\\n    ')"
      ]
     },
     "execution_count": 23,
     "metadata": {},
     "output_type": "execute_result"
    }
   ],
   "source": [
    "final_prompt"
   ]
  },
  {
   "cell_type": "code",
   "execution_count": null,
   "id": "4cf6aa6c",
   "metadata": {},
   "outputs": [
    {
     "name": "stdout",
     "output_type": "stream",
     "text": [
      "content='В предоставленном контексте тема телефонов не обсуждается. Речь идёт о роли войны как части культуры, её влиянии на российское общество, язык и формирование парадигмы деления на \"друга или врага\". Если у вас есть другие вопросы по теме, уточните.' additional_kwargs={'refusal': None} response_metadata={'token_usage': {'completion_tokens': 221, 'prompt_tokens': 365, 'total_tokens': 586, 'completion_tokens_details': None, 'prompt_tokens_details': None}, 'model_name': 'deepseek/deepseek-r1:free', 'system_fingerprint': None, 'id': 'gen-1755673208-efVTB5NPmSped60IyIoE', 'service_tier': None, 'finish_reason': 'stop', 'logprobs': None} id='run--b4d61919-7742-4593-80fd-1694f53647b4-0' usage_metadata={'input_tokens': 365, 'output_tokens': 221, 'total_tokens': 586, 'input_token_details': {}, 'output_token_details': {}}\n"
     ]
    }
   ],
   "source": [
    "answer= model.invoke(final_prompt)\n",
    "print(answer)"
   ]
  },
  {
   "cell_type": "code",
   "execution_count": null,
   "id": "bf359ac3",
   "metadata": {},
   "outputs": [],
   "source": [
    "from langchain_core.runnables import RunnableParallel, RunnablePassthrough, RunnableLambda\n",
    "from langchain_core.output_parsers import StrOutputParser"
   ]
  },
  {
   "cell_type": "code",
   "execution_count": null,
   "id": "50f568b6",
   "metadata": {},
   "outputs": [],
   "source": [
    "def format_docs(retrieved_docs):\n",
    "    context_text = '\\n\\n'.join(doc.page_content for doc in retrieved_docs)\n",
    "    return context_text"
   ]
  },
  {
   "cell_type": "code",
   "execution_count": null,
   "id": "f9b4673f",
   "metadata": {},
   "outputs": [],
   "source": [
    "parallel_chain = RunnableParallel({\n",
    "    'context': retriever | RunnableLambda(format_docs),\n",
    "    'question': RunnablePassthrough()\n",
    "})"
   ]
  },
  {
   "cell_type": "code",
   "execution_count": null,
   "id": "18f52d09",
   "metadata": {},
   "outputs": [
    {
     "data": {
      "text/plain": [
       "{'context': 'Привет всем! Я Никита. Я Марина, привет! Мы ведем подкаст «Easy Russian» от Easy Languages, \\nподкаст для тех, кто изучает русский язык, несмотря ни на что. Это седьмой выпуск нашего подкаста, \\nв котором мы поговорим о том, как война изменила русский язык. Ну, не случайно мы говорим об этом \\nименно сейчас. Все, конечно, заняты этой страшной годовщиной, которая приближается. К моменту выхода \\nподкаста до нее останется всего два дня, если я не ошибаюсь. Приближается двадцать четвертое февраля,\\n\\nПривет всем! Я Никита. Я Марина, привет! Мы ведем подкаст «Easy Russian» от Easy Languages, \\nподкаст для тех, кто изучает русский язык, несмотря ни на что. Это седьмой выпуск нашего подкаста, \\nв котором мы поговорим о том, как война изменила русский язык. Ну, не случайно мы говорим об этом \\nименно сейчас. Все, конечно, заняты этой страшной годовщиной, которая приближается. К моменту выхода \\nподкаста до нее останется всего два дня, если я не ошибаюсь. Приближается двадцать четвертое февраля,\\n\\nдень, когда Россия начала эту страшную, бессмысленную и очень затяжную войну, которая, мне кажется, \\nизменила жизнь всех. Да, она, конечно, изменила и язык тоже. И мы поговорим о том, какие новые слова появились. \\nИ как в принципе язык отражает то, что происходит в стране и в мире. Да, в общем, Никита, как ты уже сказал, \\nдвадцать четвертое февраля две тысячи двадцать второго года. Точно... Ну, почти год назад началась война, Россия\\n\\nдень, когда Россия начала эту страшную, бессмысленную и очень затяжную войну, которая, мне кажется, \\nизменила жизнь всех. Да, она, конечно, изменила и язык тоже. И мы поговорим о том, какие новые слова появились. \\nИ как в принципе язык отражает то, что происходит в стране и в мире. Да, в общем, Никита, как ты уже сказал, \\nдвадцать четвертое февраля две тысячи двадцать второго года. Точно... Ну, почти год назад началась война, Россия',\n",
       " 'question': 'what technologies are mentioned in the transcript?'}"
      ]
     },
     "execution_count": 60,
     "metadata": {},
     "output_type": "execute_result"
    }
   ],
   "source": [
    "parallel_chain.invoke('what technologies are mentioned in the transcript?')"
   ]
  },
  {
   "cell_type": "code",
   "execution_count": null,
   "id": "1cc84924",
   "metadata": {},
   "outputs": [],
   "source": [
    "parser = StrOutputParser()"
   ]
  },
  {
   "cell_type": "code",
   "execution_count": null,
   "id": "4e0f600d",
   "metadata": {},
   "outputs": [],
   "source": [
    "main_chain = parallel_chain | prompt | model | parser"
   ]
  },
  {
   "cell_type": "code",
   "execution_count": null,
   "id": "ad0b8477",
   "metadata": {},
   "outputs": [
    {
     "data": {
      "text/plain": [
       "'Основной темой обсуждения является влияние войны, начатой Россией 24 февраля 2022 года, на язык и общество. Отмечается, что война не только изменила жизнь людей, но и породила новые слова, отражающие реалии происходящего. Подкаст фокусируется на связи языка с событиями в стране и мире, хотя также затрагивает более широкие вопросы о последствиях конфликта для семьи, общества и будущего. Однако глубокая аналитика этих аспектов пока откладывается, так как основная цель — исследование языковых изменений.'"
      ]
     },
     "execution_count": 64,
     "metadata": {},
     "output_type": "execute_result"
    }
   ],
   "source": [
    "main_chain.invoke('can you summarize the video?')"
   ]
  },
  {
   "cell_type": "code",
   "execution_count": null,
   "id": "f9424cfb",
   "metadata": {},
   "outputs": [],
   "source": []
  }
 ],
 "metadata": {
  "kernelspec": {
   "display_name": "Python (RAG_projects)",
   "language": "python",
   "name": "rag_projects"
  },
  "language_info": {
   "codemirror_mode": {
    "name": "ipython",
    "version": 3
   },
   "file_extension": ".py",
   "mimetype": "text/x-python",
   "name": "python",
   "nbconvert_exporter": "python",
   "pygments_lexer": "ipython3",
   "version": "3.13.3"
  }
 },
 "nbformat": 4,
 "nbformat_minor": 5
}
